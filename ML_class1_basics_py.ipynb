{
  "nbformat": 4,
  "nbformat_minor": 0,
  "metadata": {
    "colab": {
      "provenance": [],
      "authorship_tag": "ABX9TyMVTjGYG6vg/hlYxoAHEN30"
    },
    "kernelspec": {
      "name": "python3",
      "display_name": "Python 3"
    },
    "language_info": {
      "name": "python"
    }
  },
  "cells": [
    {
      "cell_type": "code",
      "source": [
        "a = 1 #int\n",
        "b = 1.5 #double\n",
        "\n",
        "#datatype of variable\n",
        "type(a)\n"
      ],
      "metadata": {
        "colab": {
          "base_uri": "https://localhost:8080/"
        },
        "id": "YqDlatQGgBC2",
        "outputId": "9faef6a2-8603-4701-8218-35a44906561d"
      },
      "execution_count": 1,
      "outputs": [
        {
          "output_type": "execute_result",
          "data": {
            "text/plain": [
              "int"
            ]
          },
          "metadata": {},
          "execution_count": 1
        }
      ]
    },
    {
      "cell_type": "code",
      "execution_count": 3,
      "metadata": {
        "colab": {
          "base_uri": "https://localhost:8080/"
        },
        "id": "xaYeys-ne7Ah",
        "outputId": "e341fb2f-6566-4667-8eac-136697e341ad"
      },
      "outputs": [
        {
          "output_type": "stream",
          "name": "stdout",
          "text": [
            "[10, 20]\n",
            "10\n",
            "20\n"
          ]
        }
      ],
      "source": [
        "#lets talk about list\n",
        "l1 = []\n",
        "l1.append(10)\n",
        "l1.append(20)\n",
        "print(l1)\n",
        "\n",
        "#accessing elemnets -- similar to array\n",
        "print(l1[0])\n",
        "print(l1[1])\n"
      ]
    },
    {
      "cell_type": "code",
      "source": [
        "#append vs insert\n",
        "#append mtlb -- at the last\n",
        "#insert at a particular index\n",
        "l1.insert(2,30)\n",
        "print(l1)\n"
      ],
      "metadata": {
        "colab": {
          "base_uri": "https://localhost:8080/"
        },
        "id": "AfMHzTmahxOS",
        "outputId": "2cb01554-6617-4f00-b9c0-ea62fa9ba722"
      },
      "execution_count": 4,
      "outputs": [
        {
          "output_type": "stream",
          "name": "stdout",
          "text": [
            "[10, 20, 30]\n"
          ]
        }
      ]
    },
    {
      "cell_type": "code",
      "source": [
        "#deleting the elements\n",
        "# pop() -- deleting from the end\n",
        "l1.pop()"
      ],
      "metadata": {
        "id": "ubUZTebli1BU"
      },
      "execution_count": null,
      "outputs": []
    },
    {
      "cell_type": "code",
      "source": [
        "#In class exercise\n",
        "l2 = [10,20,30,40,50]\n",
        "l2.insert(0,00)\n",
        "print(l2)\n",
        "l2.pop()\n",
        "print(l2)\n",
        "l2.pop(3) #removing an element at index 3\n",
        "print(l2)"
      ],
      "metadata": {
        "colab": {
          "base_uri": "https://localhost:8080/"
        },
        "id": "OkiZgSxbjMss",
        "outputId": "58c088aa-eba8-42d5-c9fa-12a6782d4c32"
      },
      "execution_count": 5,
      "outputs": [
        {
          "output_type": "stream",
          "name": "stdout",
          "text": [
            "[0, 10, 20, 30, 40, 50]\n",
            "[0, 10, 20, 30, 40]\n",
            "[0, 10, 20, 40]\n"
          ]
        }
      ]
    },
    {
      "cell_type": "code",
      "source": [
        "l3=[]\n",
        "#10,20,30,40,50 -- but rev\n",
        "l3.insert(0,50)\n",
        "l3.insert(0,40)\n",
        "l3.insert(0,30)\n",
        "l3.insert(0,20)\n",
        "l3.insert(0,10)\n",
        "print(l3)"
      ],
      "metadata": {
        "colab": {
          "base_uri": "https://localhost:8080/"
        },
        "id": "IPgE7rWxkQPX",
        "outputId": "18706541-938b-48b2-bb1f-12147ea1ec2a"
      },
      "execution_count": 7,
      "outputs": [
        {
          "output_type": "stream",
          "name": "stdout",
          "text": [
            "[10, 20, 30, 40, 50]\n"
          ]
        }
      ]
    },
    {
      "cell_type": "code",
      "source": [
        "#dictionaries\n",
        "dict1 = {\n",
        "    'key1' : 10,\n",
        "    'key2' : 20,\n",
        "    'key3' : 30,\n",
        "}\n",
        "print(dict1)\n",
        "# print(dict1[0]) -- this won't work\n",
        "print(dict1['key1'])\n",
        "\n",
        "\n",
        "dict1['key4'] = 'value40'\n",
        "dict1[5] = 50\n",
        "\n",
        "#any datatypes as keys and values\n",
        "print(dict1)\n",
        "\n",
        "#dictionaries are immuatable !!! (expection, strings ki value change ho skti hai??)\n",
        "\n",
        "#length of the dictionary\n",
        "len(dict1)"
      ],
      "metadata": {
        "colab": {
          "base_uri": "https://localhost:8080/"
        },
        "id": "gqi8k3RQkjvb",
        "outputId": "ccac51c0-6f37-4cf0-a405-63561367855b"
      },
      "execution_count": 12,
      "outputs": [
        {
          "output_type": "stream",
          "name": "stdout",
          "text": [
            "{'key1': 10, 'key2': 20, 'key3': 30}\n",
            "10\n",
            "{'key1': 10, 'key2': 20, 'key3': 30, 'key4': 'value40', 5: 50}\n"
          ]
        },
        {
          "output_type": "execute_result",
          "data": {
            "text/plain": [
              "5"
            ]
          },
          "metadata": {},
          "execution_count": 12
        }
      ]
    },
    {
      "cell_type": "code",
      "source": [
        "#nested dictionaries\n",
        "d2 = {\n",
        "    'nested' : {\n",
        "        'a' : 1,\n",
        "        'b' : 2,\n",
        "        'c' : 3\n",
        "    }\n",
        "}\n",
        "\n",
        "#length of dictionary ,\n",
        "print(len(d2)) #should be 1\n",
        "print(len(d2['nested'])) #should be 3"
      ],
      "metadata": {
        "colab": {
          "base_uri": "https://localhost:8080/"
        },
        "id": "NdeaB5XKnL4s",
        "outputId": "0535e59e-aa34-42cf-ade4-4b02ff42b2fb"
      },
      "execution_count": 16,
      "outputs": [
        {
          "output_type": "stream",
          "name": "stdout",
          "text": [
            "1\n",
            "3\n"
          ]
        }
      ]
    },
    {
      "cell_type": "code",
      "source": [
        "d1 = { 1:2, 2:4, 3:6, 4:8, 5:10}\n",
        "\n",
        "print(d1.keys()) #i.first\n",
        "print(d1.values()) #i.second\n",
        "\n",
        "#q--print all the keys and values as two separate lists\n",
        "#a--we have to used typecasting dict to list to print it as a list\n",
        "\n",
        "print(list(d1.keys()))\n",
        "print(list(d1.values()))\n",
        "#create a new list d2, jisme d1 ke keys, value pairs swap hojye"
      ],
      "metadata": {
        "colab": {
          "base_uri": "https://localhost:8080/"
        },
        "id": "zZRoUOBenx2b",
        "outputId": "f85081f2-52ff-4293-f454-0b341f752e64"
      },
      "execution_count": 17,
      "outputs": [
        {
          "output_type": "stream",
          "name": "stdout",
          "text": [
            "dict_keys([1, 2, 3, 4, 5])\n",
            "dict_values([2, 4, 6, 8, 10])\n",
            "[1, 2, 3, 4, 5]\n",
            "[2, 4, 6, 8, 10]\n"
          ]
        }
      ]
    },
    {
      "cell_type": "code",
      "source": [
        "#tuples -- imuatable\n",
        "t1 = ('yo','yo')\n",
        "#we can also use a concatination fucntion with tuples"
      ],
      "metadata": {
        "id": "f14kW4Ghpqbd"
      },
      "execution_count": null,
      "outputs": []
    },
    {
      "cell_type": "code",
      "source": [
        "#sets - can contain any type of elements\n",
        "s1 = set() #set declaration\n",
        "#set mai jo values hoti h uska order hum define nai kar skte , SET DOESN\"T HAS ANY INDEX VALUES\n",
        "s1 = set([1,2,3,'one','second','third'])\n",
        "print(s1)\n",
        "\n",
        "str1 = 'learning'\n",
        "print(set(str1)) # {'i', 'a', 'e', 'g', 'n', 'l', 'r'}\n",
        "print(set([str1])) # 'learning', pass it as a list"
      ],
      "metadata": {
        "colab": {
          "base_uri": "https://localhost:8080/"
        },
        "id": "KaYWbOchp9mg",
        "outputId": "35fbb1b8-fdda-40c3-dc91-c8edfe75520b"
      },
      "execution_count": 18,
      "outputs": [
        {
          "output_type": "stream",
          "name": "stdout",
          "text": [
            "{1, 2, 3, 'one', 'second', 'third'}\n",
            "{'i', 'a', 'e', 'g', 'n', 'l', 'r'}\n",
            "{'learning'}\n"
          ]
        }
      ]
    },
    {
      "cell_type": "markdown",
      "source": [
        "INPUTS\n"
      ],
      "metadata": {
        "id": "obVEHJKCsAO7"
      }
    },
    {
      "cell_type": "code",
      "source": [
        "#input hamesha as a string hota h -- badmai bhale hi typecast krle, but at the beggining its always a string\n",
        "v1 = input('Enter the value of v1:')\n",
        "v2 = input('Enter the value of v2:')\n",
        "v3 = int(input('Enter the value of v3:'))\n",
        "v4 = int(input('Enter the value of v4:'))\n",
        "\n",
        "print(v1+v2) #string concationation\n",
        "print(v3+v4) #adds values, int values46"
      ],
      "metadata": {
        "colab": {
          "base_uri": "https://localhost:8080/"
        },
        "id": "0RqYyKM6r_YR",
        "outputId": "dcdc6f4a-b167-45b5-c957-0d9d280fa3b9"
      },
      "execution_count": 22,
      "outputs": [
        {
          "output_type": "stream",
          "name": "stdout",
          "text": [
            "Enter the value of v1:2\n",
            "Enter the value of v2:4\n",
            "Enter the value of v3:5\n",
            "Enter the value of v4:6\n",
            "24\n",
            "11\n"
          ]
        }
      ]
    },
    {
      "cell_type": "markdown",
      "source": [
        "START : STOP : STEPS"
      ],
      "metadata": {
        "id": "HZLXxUjttJvE"
      }
    },
    {
      "cell_type": "code",
      "source": [
        "s = 'machine learning'\n",
        "print(s[1:6:2]) #ahn\n",
        "\n",
        "#rev a string using this method\n",
        "print(s[::-1]) #gninrael enihcam\n",
        "\n",
        "\n",
        "#start:stop:steps\n",
        "#begin:end:steps"
      ],
      "metadata": {
        "colab": {
          "base_uri": "https://localhost:8080/"
        },
        "id": "D7vsx7GFtJd1",
        "outputId": "0d1836e4-092b-4f64-d941-db3bc240d435"
      },
      "execution_count": 28,
      "outputs": [
        {
          "output_type": "stream",
          "name": "stdout",
          "text": [
            "ahn\n",
            "gninrael enihcam\n"
          ]
        }
      ]
    },
    {
      "cell_type": "markdown",
      "source": [
        "call by refernce\n"
      ],
      "metadata": {
        "id": "0zScL6sIvFej"
      }
    },
    {
      "cell_type": "code",
      "source": [
        "#list acts as call by reference -- by default\n",
        "l1 = [20]\n",
        "\n",
        "l2 = l1\n",
        "print(l2)\n",
        "l1.append(10)\n",
        "print(l2)\n",
        "\n",
        "#how to unbind the call by reference\n",
        "l3 = list(l1)\n",
        "print(l3)\n",
        "l1.append(30)\n",
        "print(l3)\n",
        "print(l1)\n"
      ],
      "metadata": {
        "colab": {
          "base_uri": "https://localhost:8080/"
        },
        "id": "LCW08Eo4vJ51",
        "outputId": "242b3cfd-cee6-4996-e357-4bb326150164"
      },
      "execution_count": 30,
      "outputs": [
        {
          "output_type": "stream",
          "name": "stdout",
          "text": [
            "[20]\n",
            "[20, 10]\n",
            "[20, 10]\n",
            "[20, 10]\n",
            "[20, 10, 30]\n"
          ]
        }
      ]
    },
    {
      "cell_type": "code",
      "source": [
        "#in class exercise\n",
        "s1 = 'machine'\n",
        "s2 = 'learning'\n",
        "s3 = s1 + ' ' +s2\n",
        "print(s3)\n",
        "\n",
        "#find the sum of all values in a list\n",
        "l1 = [1,2,3,4,5]\n",
        "print(sum(l1))\n",
        "\n",
        "#find the index of element 6\n",
        "l2 = [1,2,3,4,5,6]\n",
        "print('the element of element 6 should be:')\n",
        "print(l2.index(6))\n",
        "\n",
        "#removing an element from the dictonary\n",
        "d1 = {\n",
        "    'a' : 1, 'e':1, 'i':1\n",
        "}\n",
        "d1.pop('e')\n",
        "print(d1)\n",
        "\n",
        "#replace a character in the string\n",
        "s = \"Machine Learning\"\n",
        "print(s.replace('a','e'))\n",
        "\n",
        "#print string s1 =\"Machine Learning\" with all its characters in lower case\n",
        "s.lower()"
      ],
      "metadata": {
        "colab": {
          "base_uri": "https://localhost:8080/",
          "height": 143
        },
        "id": "ugN6Rs6Svokz",
        "outputId": "8316ff39-16af-4cf8-ccb5-9ca855b9a307"
      },
      "execution_count": 39,
      "outputs": [
        {
          "output_type": "stream",
          "name": "stdout",
          "text": [
            "machine learning\n",
            "15\n",
            "the element of element 6 should be:\n",
            "5\n",
            "{'a': 1, 'i': 1}\n",
            "Mechine Leerning\n"
          ]
        },
        {
          "output_type": "execute_result",
          "data": {
            "text/plain": [
              "'machine learning'"
            ],
            "application/vnd.google.colaboratory.intrinsic+json": {
              "type": "string"
            }
          },
          "metadata": {},
          "execution_count": 39
        }
      ]
    }
  ]
}